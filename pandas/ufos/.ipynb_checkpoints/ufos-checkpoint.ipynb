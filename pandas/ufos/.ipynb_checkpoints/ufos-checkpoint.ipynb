{
 "cells": [
  {
   "cell_type": "code",
   "execution_count": 2,
   "metadata": {},
   "outputs": [],
   "source": [
    "import pandas as pd\n",
    "import numpy as np\n",
    "import matplotlib as mp"
   ]
  },
  {
   "cell_type": "code",
   "execution_count": 16,
   "metadata": {},
   "outputs": [
    {
     "data": {
      "text/html": [
       "<div>\n",
       "<style scoped>\n",
       "    .dataframe tbody tr th:only-of-type {\n",
       "        vertical-align: middle;\n",
       "    }\n",
       "\n",
       "    .dataframe tbody tr th {\n",
       "        vertical-align: top;\n",
       "    }\n",
       "\n",
       "    .dataframe thead th {\n",
       "        text-align: right;\n",
       "    }\n",
       "</style>\n",
       "<table border=\"1\" class=\"dataframe\">\n",
       "  <thead>\n",
       "    <tr style=\"text-align: right;\">\n",
       "      <th></th>\n",
       "      <th>datetime</th>\n",
       "      <th>city</th>\n",
       "      <th>state</th>\n",
       "      <th>country</th>\n",
       "      <th>shape</th>\n",
       "      <th>duration (seconds)</th>\n",
       "      <th>duration (hours/min)</th>\n",
       "      <th>comments</th>\n",
       "      <th>date posted</th>\n",
       "      <th>latitude</th>\n",
       "      <th>longitude</th>\n",
       "    </tr>\n",
       "  </thead>\n",
       "  <tbody>\n",
       "    <tr>\n",
       "      <th>0</th>\n",
       "      <td>10/10/1949 20:30</td>\n",
       "      <td>san marcos</td>\n",
       "      <td>tx</td>\n",
       "      <td>us</td>\n",
       "      <td>cylinder</td>\n",
       "      <td>2700</td>\n",
       "      <td>45 minutes</td>\n",
       "      <td>This event took place in early fall around 194...</td>\n",
       "      <td>2004-04-27</td>\n",
       "      <td>29.8830556</td>\n",
       "      <td>-97.941111</td>\n",
       "    </tr>\n",
       "    <tr>\n",
       "      <th>1</th>\n",
       "      <td>10/10/1949 21:00</td>\n",
       "      <td>lackland afb</td>\n",
       "      <td>tx</td>\n",
       "      <td>NaN</td>\n",
       "      <td>light</td>\n",
       "      <td>7200</td>\n",
       "      <td>1-2 hrs</td>\n",
       "      <td>1949 Lackland AFB&amp;#44 TX.  Lights racing acros...</td>\n",
       "      <td>2005-12-16</td>\n",
       "      <td>29.38421</td>\n",
       "      <td>-98.581082</td>\n",
       "    </tr>\n",
       "    <tr>\n",
       "      <th>2</th>\n",
       "      <td>10/10/1955 17:00</td>\n",
       "      <td>chester (uk/england)</td>\n",
       "      <td>NaN</td>\n",
       "      <td>gb</td>\n",
       "      <td>circle</td>\n",
       "      <td>20</td>\n",
       "      <td>20 seconds</td>\n",
       "      <td>Green/Orange circular disc over Chester&amp;#44 En...</td>\n",
       "      <td>2008-01-21</td>\n",
       "      <td>53.2</td>\n",
       "      <td>-2.916667</td>\n",
       "    </tr>\n",
       "    <tr>\n",
       "      <th>3</th>\n",
       "      <td>10/10/1956 21:00</td>\n",
       "      <td>edna</td>\n",
       "      <td>tx</td>\n",
       "      <td>us</td>\n",
       "      <td>circle</td>\n",
       "      <td>20</td>\n",
       "      <td>1/2 hour</td>\n",
       "      <td>My older brother and twin sister were leaving ...</td>\n",
       "      <td>2004-01-17</td>\n",
       "      <td>28.9783333</td>\n",
       "      <td>-96.645833</td>\n",
       "    </tr>\n",
       "    <tr>\n",
       "      <th>4</th>\n",
       "      <td>10/10/1960 20:00</td>\n",
       "      <td>kaneohe</td>\n",
       "      <td>hi</td>\n",
       "      <td>us</td>\n",
       "      <td>light</td>\n",
       "      <td>900</td>\n",
       "      <td>15 minutes</td>\n",
       "      <td>AS a Marine 1st Lt. flying an FJ4B fighter/att...</td>\n",
       "      <td>2004-01-22</td>\n",
       "      <td>21.4180556</td>\n",
       "      <td>-157.803611</td>\n",
       "    </tr>\n",
       "  </tbody>\n",
       "</table>\n",
       "</div>"
      ],
      "text/plain": [
       "           datetime                  city state country     shape  \\\n",
       "0  10/10/1949 20:30            san marcos    tx      us  cylinder   \n",
       "1  10/10/1949 21:00          lackland afb    tx     NaN     light   \n",
       "2  10/10/1955 17:00  chester (uk/england)   NaN      gb    circle   \n",
       "3  10/10/1956 21:00                  edna    tx      us    circle   \n",
       "4  10/10/1960 20:00               kaneohe    hi      us     light   \n",
       "\n",
       "  duration (seconds) duration (hours/min)  \\\n",
       "0               2700           45 minutes   \n",
       "1               7200              1-2 hrs   \n",
       "2                 20           20 seconds   \n",
       "3                 20             1/2 hour   \n",
       "4                900           15 minutes   \n",
       "\n",
       "                                            comments date posted    latitude  \\\n",
       "0  This event took place in early fall around 194...  2004-04-27  29.8830556   \n",
       "1  1949 Lackland AFB&#44 TX.  Lights racing acros...  2005-12-16    29.38421   \n",
       "2  Green/Orange circular disc over Chester&#44 En...  2008-01-21        53.2   \n",
       "3  My older brother and twin sister were leaving ...  2004-01-17  28.9783333   \n",
       "4  AS a Marine 1st Lt. flying an FJ4B fighter/att...  2004-01-22  21.4180556   \n",
       "\n",
       "   longitude   \n",
       "0  -97.941111  \n",
       "1  -98.581082  \n",
       "2   -2.916667  \n",
       "3  -96.645833  \n",
       "4 -157.803611  "
      ]
     },
     "execution_count": 16,
     "metadata": {},
     "output_type": "execute_result"
    }
   ],
   "source": [
    "ufos = pd.read_csv('scrubbed.csv', low_memory=False)\n",
    "ufos['date posted'] = pd.to_datetime(ufos['date posted'])\n",
    "# ufos['datetime'] = pd.to_datetime(ufos['datetime'])\n",
    "ufos.head()"
   ]
  },
  {
   "cell_type": "code",
   "execution_count": 40,
   "metadata": {},
   "outputs": [],
   "source": [
    "ufos['duration (seconds)'] = pd.to_numeric(ufos['duration (seconds)'], errors='coerce')"
   ]
  },
  {
   "cell_type": "markdown",
   "metadata": {},
   "source": [
    "--------------\n",
    "# Proporcion de figuras visualizadas"
   ]
  },
  {
   "cell_type": "code",
   "execution_count": 10,
   "metadata": {},
   "outputs": [
    {
     "data": {
      "text/plain": [
       "light        0.211288\n",
       "triangle     0.100319\n",
       "circle       0.097041\n",
       "fireball     0.079184\n",
       "other        0.072054\n",
       "unknown      0.071224\n",
       "sphere       0.068712\n",
       "disk         0.066492\n",
       "oval         0.047615\n",
       "formation    0.031339\n",
       "cigar        0.026237\n",
       "changing     0.025026\n",
       "flash        0.016939\n",
       "rectangle    0.016543\n",
       "cylinder     0.016365\n",
       "diamond      0.015026\n",
       "chevron      0.012143\n",
       "egg          0.009681\n",
       "teardrop     0.009566\n",
       "cone         0.004031\n",
       "cross        0.002972\n",
       "delta        0.000089\n",
       "crescent     0.000026\n",
       "round        0.000026\n",
       "flare        0.000013\n",
       "pyramid      0.000013\n",
       "dome         0.000013\n",
       "hexagon      0.000013\n",
       "changed      0.000013\n",
       "Name: shape, dtype: float64"
      ]
     },
     "execution_count": 10,
     "metadata": {},
     "output_type": "execute_result"
    }
   ],
   "source": [
    "ufos['shape'].value_counts() / ufos['shape'].count()"
   ]
  },
  {
   "cell_type": "markdown",
   "metadata": {},
   "source": [
    "-------------\n",
    "# Avistajes por estado"
   ]
  },
  {
   "cell_type": "code",
   "execution_count": 5,
   "metadata": {},
   "outputs": [
    {
     "data": {
      "text/plain": [
       "ca    8912\n",
       "wa    3966\n",
       "fl    3835\n",
       "tx    3447\n",
       "ny    2980\n",
       "il    2499\n",
       "az    2414\n",
       "pa    2366\n",
       "oh    2275\n",
       "mi    1836\n",
       "or    1747\n",
       "nc    1740\n",
       "mo    1458\n",
       "co    1413\n",
       "in    1288\n",
       "va    1273\n",
       "ma    1256\n",
       "nj    1255\n",
       "ga    1255\n",
       "wi    1232\n",
       "tn    1119\n",
       "mn    1012\n",
       "sc    1003\n",
       "ct     892\n",
       "ky     855\n",
       "md     837\n",
       "nv     803\n",
       "ok     724\n",
       "nm     720\n",
       "ia     678\n",
       "al     642\n",
       "ut     622\n",
       "ks     613\n",
       "ar     588\n",
       "me     558\n",
       "la     558\n",
       "id     521\n",
       "nh     486\n",
       "mt     478\n",
       "wv     448\n",
       "ne     381\n",
       "ms     375\n",
       "ak     319\n",
       "hi     262\n",
       "vt     260\n",
       "ri     228\n",
       "sd     183\n",
       "wy     175\n",
       "de     166\n",
       "nd     129\n",
       "pr      25\n",
       "dc       7\n",
       "Name: state, dtype: int64"
      ]
     },
     "execution_count": 5,
     "metadata": {},
     "output_type": "execute_result"
    }
   ],
   "source": [
    "ufos[ufos['country'] == 'us']['state'].value_counts()\n"
   ]
  },
  {
   "cell_type": "markdown",
   "metadata": {},
   "source": [
    "----\n",
    "# Avistajes por año\n"
   ]
  },
  {
   "cell_type": "code",
   "execution_count": 51,
   "metadata": {},
   "outputs": [
    {
     "data": {
      "text/plain": [
       "city\n",
       "bay st. louis                                    181800.0\n",
       "las vegas                                        173100.0\n",
       "valparaiso                                       109800.0\n",
       "lone pine                                        108000.0\n",
       "sicamous (canada)                                 37800.0\n",
       "maiden                                            14400.0\n",
       "rockwell city                                     14400.0\n",
       "evergreen                                         14400.0\n",
       "rigaud (canada)                                   14400.0\n",
       "woodward                                          14400.0\n",
       "baltimore                                         10800.0\n",
       "de kalb                                           10800.0\n",
       "barcelona (spain)                                 10800.0\n",
       "roswell                                           10800.0\n",
       "north vernon                                      10800.0\n",
       "shelby                                            10800.0\n",
       "gasport                                           10800.0\n",
       "port coquitlam (canada)                           10800.0\n",
       "williamsburg                                       9000.0\n",
       "sallisaw                                           7200.0\n",
       "spokane                                            7200.0\n",
       "brunswick hills                                    7200.0\n",
       "lewniowa (poland)                                  7200.0\n",
       "milford                                            7200.0\n",
       "burlington                                         7200.0\n",
       "old bridge                                         7200.0\n",
       "live oak                                           7200.0\n",
       "tom                                                6300.0\n",
       "london (uk/england)                                5400.0\n",
       "linthicum                                          5400.0\n",
       "                                                   ...   \n",
       "san francisco                                         3.0\n",
       "romeo                                                 3.0\n",
       "chimacum                                              3.0\n",
       "long beach/lakewood city limt                         3.0\n",
       "post falls                                            3.0\n",
       "bastrop                                               3.0\n",
       "majenica                                              3.0\n",
       "stuarts draft                                         3.0\n",
       "ottawa (canada)                                       3.0\n",
       "cheyenne                                              3.0\n",
       "victoria (canada)                                     3.0\n",
       "ainsworth                                             3.0\n",
       "motherwell (n. lanarkshire co.) (uk/scotland)         3.0\n",
       "buffalo                                               3.0\n",
       "onion lake (canada)                                   2.0\n",
       "santa cruz                                            2.0\n",
       "recife (brazil)                                       2.0\n",
       "bend                                                  2.0\n",
       "newtown                                               2.0\n",
       "new effington                                         2.0\n",
       "blue bell                                             2.0\n",
       "lewisville                                            2.0\n",
       "elkader                                               2.0\n",
       "canandaigua                                           2.0\n",
       "aachen (near cologne) (germany)                       2.0\n",
       "morrison                                              1.5\n",
       "parsippany                                            1.0\n",
       "bethlehem                                             1.0\n",
       "healdsburg                                            1.0\n",
       "hartsville                                            1.0\n",
       "Name: duration (seconds), Length: 531, dtype: float64"
      ]
     },
     "execution_count": 51,
     "metadata": {},
     "output_type": "execute_result"
    }
   ],
   "source": [
    "ufos.loc[((ufos['date posted'].dt.year == 2004) & (ufos['date posted'].dt.month == 3))].groupby('city')['duration (seconds)'].mean().sort_values(ascending=False)"
   ]
  },
  {
   "cell_type": "markdown",
   "metadata": {},
   "source": [
    "----\n",
    "# Duracion por tipo"
   ]
  },
  {
   "cell_type": "code",
   "execution_count": 43,
   "metadata": {},
   "outputs": [
    {
     "data": {
      "text/plain": [
       "shape\n",
       "dome             2.000000\n",
       "flare           30.000000\n",
       "pyramid        120.000000\n",
       "hexagon        240.000000\n",
       "round          452.500000\n",
       "chevron        460.317174\n",
       "rectangle      683.183346\n",
       "cross          748.519313\n",
       "teardrop       942.946000\n",
       "formation     1254.048547\n",
       "diamond       1413.628625\n",
       "disk          1460.431677\n",
       "triangle      1664.266397\n",
       "egg           1886.793281\n",
       "cigar         1917.106830\n",
       "changing      2079.513405\n",
       "delta         2307.857143\n",
       "cylinder      3426.512471\n",
       "changed       3600.000000\n",
       "oval          3898.586311\n",
       "fireball      4023.941484\n",
       "circle        4768.092717\n",
       "flash         5330.289421\n",
       "unknown       5546.723104\n",
       "light        13170.345373\n",
       "crescent     18905.000000\n",
       "other        20634.210977\n",
       "sphere       21787.298238\n",
       "cone         82827.405063\n",
       "Name: duration (seconds), dtype: float64"
      ]
     },
     "execution_count": 43,
     "metadata": {},
     "output_type": "execute_result"
    }
   ],
   "source": [
    "ufos.groupby('shape')['duration (seconds)'].mean().sort_values()"
   ]
  }
 ],
 "metadata": {
  "kernelspec": {
   "display_name": "Python 2",
   "language": "python",
   "name": "python2"
  },
  "language_info": {
   "codemirror_mode": {
    "name": "ipython",
    "version": 2
   },
   "file_extension": ".py",
   "mimetype": "text/x-python",
   "name": "python",
   "nbconvert_exporter": "python",
   "pygments_lexer": "ipython2",
   "version": "2.7.15rc1"
  }
 },
 "nbformat": 4,
 "nbformat_minor": 2
}
